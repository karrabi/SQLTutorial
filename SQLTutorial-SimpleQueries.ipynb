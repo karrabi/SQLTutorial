{
 "cells": [
  {
   "cell_type": "markdown",
   "id": "ecc10281",
   "metadata": {},
   "source": [
    "# Step by Step SQL Tutorial in Jupyter notebook"
   ]
  },
  {
   "cell_type": "markdown",
   "id": "17144f6a",
   "metadata": {},
   "source": [
    "## Install necessary packages with specific versions"
   ]
  },
  {
   "cell_type": "code",
   "execution_count": null,
   "id": "fb31c8d9",
   "metadata": {},
   "outputs": [],
   "source": [
    "# commnt out these lines and run them in case they're not install on your system\n",
    "\n",
    "# !pip install -U pandas==2.0.0\n",
    "\n",
    "# !pip install -U sqlalchemy==2.0.10\n",
    "\n",
    "# !pip install -U pandasql==0.7.3"
   ]
  },
  {
   "cell_type": "markdown",
   "id": "8fbcf0e1",
   "metadata": {},
   "source": [
    "## Import required packages "
   ]
  },
  {
   "cell_type": "code",
   "execution_count": null,
   "id": "ac661fba",
   "metadata": {},
   "outputs": [],
   "source": [
    "import pandas as pd\n",
    "import sqlalchemy\n",
    "from pandasql import sqldf"
   ]
  },
  {
   "cell_type": "markdown",
   "id": "c43c931f",
   "metadata": {},
   "source": [
    "## Load Data from csv files into pandas DataFrame"
   ]
  },
  {
   "cell_type": "code",
   "execution_count": null,
   "id": "d8f4762e",
   "metadata": {},
   "outputs": [],
   "source": [
    "customers = pd.read_csv('customers_data.csv')\n",
    "products = pd.read_csv('products_data.csv')\n",
    "orders = pd.read_csv('orders_data.csv')\n",
    "order_details = pd.read_csv('order_details_data.csv')"
   ]
  },
  {
   "cell_type": "markdown",
   "id": "b87bd926",
   "metadata": {},
   "source": [
    "Let's check DataFrames contents and et familiar with their features and some data"
   ]
  },
  {
   "cell_type": "code",
   "execution_count": null,
   "id": "a1b21bf7",
   "metadata": {},
   "outputs": [],
   "source": [
    "customers.head(2)"
   ]
  },
  {
   "cell_type": "code",
   "execution_count": null,
   "id": "ed519e2f",
   "metadata": {},
   "outputs": [],
   "source": [
    "products.head(2)"
   ]
  },
  {
   "cell_type": "code",
   "execution_count": null,
   "id": "d185f8cb",
   "metadata": {},
   "outputs": [],
   "source": [
    "orders.head(2)"
   ]
  },
  {
   "cell_type": "code",
   "execution_count": null,
   "id": "2811213c",
   "metadata": {},
   "outputs": [],
   "source": [
    "order_details.head(2)"
   ]
  },
  {
   "cell_type": "markdown",
   "id": "975fd83e",
   "metadata": {},
   "source": [
    "From now we assume each DataFrame as a Table and try to execute queries on them "
   ]
  },
  {
   "cell_type": "markdown",
   "id": "8d3d5bbf",
   "metadata": {},
   "source": [
    "Each step consists of a query and a result"
   ]
  },
  {
   "cell_type": "markdown",
   "id": "5408bc2f",
   "metadata": {},
   "source": [
    "## Retrive Data from Tables"
   ]
  },
  {
   "cell_type": "markdown",
   "id": "65fe373a",
   "metadata": {},
   "source": [
    "### Simplest select query"
   ]
  },
  {
   "cell_type": "code",
   "execution_count": null,
   "id": "92188cb7",
   "metadata": {},
   "outputs": [],
   "source": [
    "sqldf(\"select * from customers\")"
   ]
  },
  {
   "cell_type": "markdown",
   "id": "51dc0ab8",
   "metadata": {},
   "source": [
    "### Limit the result"
   ]
  },
  {
   "cell_type": "code",
   "execution_count": null,
   "id": "e1628718",
   "metadata": {},
   "outputs": [],
   "source": [
    "sqldf(\"select * from customers limit 3\")"
   ]
  },
  {
   "cell_type": "markdown",
   "id": "c79fd6b0",
   "metadata": {},
   "source": [
    "### Retrive specific columns"
   ]
  },
  {
   "cell_type": "code",
   "execution_count": null,
   "id": "84a9fe6b",
   "metadata": {},
   "outputs": [],
   "source": [
    "sqldf(\"select code, name, email from customers limit 4\")"
   ]
  },
  {
   "cell_type": "markdown",
   "id": "03b96941",
   "metadata": {},
   "source": [
    "### Filter the result with a condition"
   ]
  },
  {
   "cell_type": "code",
   "execution_count": null,
   "id": "f7dc64dc",
   "metadata": {},
   "outputs": [],
   "source": [
    "sqldf(\"select * from customers where country='GR'\")"
   ]
  },
  {
   "cell_type": "code",
   "execution_count": null,
   "id": "fd95d77a",
   "metadata": {},
   "outputs": [],
   "source": [
    "sqldf(\"select * from customers where country='GR' limit 3\")"
   ]
  },
  {
   "cell_type": "code",
   "execution_count": null,
   "id": "06d72ee1",
   "metadata": {},
   "outputs": [],
   "source": [
    "sqldf(\"select * from customers where name like 'H%'\")"
   ]
  },
  {
   "cell_type": "code",
   "execution_count": null,
   "id": "265f73d8",
   "metadata": {},
   "outputs": [],
   "source": [
    "sqldf(\"select * from customers where country='IN' and name like 'H%'\")"
   ]
  },
  {
   "cell_type": "markdown",
   "id": "b4a7fd59",
   "metadata": {},
   "source": [
    "### Aggregation"
   ]
  },
  {
   "cell_type": "code",
   "execution_count": null,
   "id": "675df26e",
   "metadata": {},
   "outputs": [],
   "source": [
    "sqldf(\"select count(*) from customers\")"
   ]
  },
  {
   "cell_type": "code",
   "execution_count": null,
   "id": "16703461",
   "metadata": {},
   "outputs": [],
   "source": [
    "sqldf(\"select count(*) from customers where email like '%@example.org'\")"
   ]
  },
  {
   "cell_type": "code",
   "execution_count": null,
   "id": "9a4e2ac9",
   "metadata": {},
   "outputs": [],
   "source": [
    "sqldf(\"select count(*) as dotOrgEmailsCount from customers where email like '%@example.org'\")"
   ]
  },
  {
   "cell_type": "code",
   "execution_count": null,
   "id": "80fa4f6a",
   "metadata": {},
   "outputs": [],
   "source": []
  },
  {
   "cell_type": "code",
   "execution_count": null,
   "id": "48c1c0db",
   "metadata": {},
   "outputs": [],
   "source": []
  },
  {
   "cell_type": "code",
   "execution_count": null,
   "id": "c7312c25",
   "metadata": {},
   "outputs": [],
   "source": []
  }
 ],
 "metadata": {
  "kernelspec": {
   "display_name": "Python 3 (ipykernel)",
   "language": "python",
   "name": "python3"
  },
  "language_info": {
   "codemirror_mode": {
    "name": "ipython",
    "version": 3
   },
   "file_extension": ".py",
   "mimetype": "text/x-python",
   "name": "python",
   "nbconvert_exporter": "python",
   "pygments_lexer": "ipython3",
   "version": "3.11.2"
  }
 },
 "nbformat": 4,
 "nbformat_minor": 5
}
